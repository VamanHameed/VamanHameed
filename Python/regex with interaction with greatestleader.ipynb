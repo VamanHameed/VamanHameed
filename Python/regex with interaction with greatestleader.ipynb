{
 "cells": [
  {
   "cell_type": "code",
   "execution_count": null,
   "id": "9615a2ff-16b1-4d63-84c0-1cbffb3e5d0f",
   "metadata": {},
   "outputs": [],
   "source": [
    "import re\n",
    "\n",
    "with open(\"InteractionsOfTheGreatestLeaderTheProphetsdealingwithdifferentpeople.txt\", \"r\", encoding = 'utf-8') as f:\n",
    "    contents = f.readlines()\n",
    "    pat = re.compile(r\"^\\d+ /d\")\n",
    "    for line in contents:\n",
    "        if re.search(pat, line):\n",
    "            continue\n",
    "    with open(\"Interactions Of The Greatest Leader.txt\",'a', encoding = 'utf-8') as f:\n",
    "            f.write(line)\n",
    "        \n",
    "            \n"
   ]
  },
  {
   "cell_type": "code",
   "execution_count": null,
   "id": "2f81afa1",
   "metadata": {
    "scrolled": true
   },
   "outputs": [],
   "source": [
    "#\"InteractionsOfTheGreatestLeaderTheProphetsdealingwithdifferentpeople.txt\"\n",
    "\n",
    "import re\n",
    "\n",
    "pat = re.compile(br\"^\\d+ \")\n",
    "with open(\"InteractionsOfTheGreatestLeaderTheProphetsdealingwithdifferentpeople.txt\", \"rb\") as fin:\n",
    "    with open(\"Interactions Of The Greatest Leader.txt\",\"wb\") as fout:\n",
    "        for line in fin:\n",
    "            if not re.search(pat, line):\n",
    "                fout.write(line)"
   ]
  }
 ],
 "metadata": {
  "kernelspec": {
   "display_name": "Python 3",
   "language": "python",
   "name": "python3"
  },
  "language_info": {
   "codemirror_mode": {
    "name": "ipython",
    "version": 3
   },
   "file_extension": ".py",
   "mimetype": "text/x-python",
   "name": "python",
   "nbconvert_exporter": "python",
   "pygments_lexer": "ipython3",
   "version": "3.8.8"
  }
 },
 "nbformat": 4,
 "nbformat_minor": 5
}
