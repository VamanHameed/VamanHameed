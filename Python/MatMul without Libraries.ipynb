{
 "cells": [
  {
   "cell_type": "code",
   "execution_count": 6,
   "id": "073d6784-9d5f-4ed8-9ba6-9fdc4b1f53ce",
   "metadata": {},
   "outputs": [
    {
     "name": "stdout",
     "output_type": "stream",
     "text": [
      "Matrix multiplication of the given matrices is possible and going ahead with the multiplication\n",
      "[11, 16, 20]\n",
      "[23, 36, 46]\n"
     ]
    }
   ],
   "source": [
    "A   =  [[1,2],\n",
    "        [3,4]]\n",
    "\n",
    "B   =  [[1,4,6],\n",
    "        [5,6,7]]\n",
    "\n",
    "logic=[]\n",
    "\n",
    "def mat_mul_possible(matrix1, matrix2):\n",
    "    matrices = [matrix1,matrix2]\n",
    "    for items in matrices:\n",
    "        rows = len(items)\n",
    "        columns = len(items[0])\n",
    "        matrix = [rows, columns]\n",
    "        logic.append(matrix)\n",
    "    if logic[0][1] == logic[1][0]:\n",
    "        print('Matrix multiplication of the given matrices is possible and going ahead with the multiplication')\n",
    "        #https://www.programiz.com/python-programming/examples/multiply-matrix#:~:text=The%20first%20row%20can%20be,the%20number%20of%20rows%20Y%20.\n",
    "        result = [[sum(x*y for x,y in zip(matrix1_row,matrix2_col)) for matrix2_col in zip(*matrix2)] for matrix1_row in matrix1] \n",
    "        for r in result:\n",
    "            print(r)\n",
    "    else:\n",
    "        print('Oops! the matrices you have provided do not fulfil the matrix multiplication condition')\n",
    "    \n",
    "        \n",
    "mat_mul_possible(A,B)        \n",
    "    \n"
   ]
  },
  {
   "cell_type": "code",
   "execution_count": 4,
   "id": "3bce5d06-02b2-4ec7-ba8a-25b288c87e57",
   "metadata": {},
   "outputs": [
    {
     "name": "stdout",
     "output_type": "stream",
     "text": [
      "[114, 160, 60, 27]\n",
      "[74, 97, 73, 14]\n",
      "[119, 157, 112, 23]\n"
     ]
    }
   ],
   "source": [
    "# Program to multiply two matrices using list comprehension\n",
    "\n",
    "# 3x3 matrix\n",
    "X = [[12,7,3],\n",
    "    [4 ,5,6],\n",
    "    [7 ,8,9]]\n",
    "\n",
    "# 3x4 matrix\n",
    "Y = [[5,8,1,2],\n",
    "    [6,7,3,0],\n",
    "    [4,5,9,1]]\n",
    "\n",
    "# result is 3x4\n",
    "result = [[sum(a*b for a,b in zip(X_row,Y_col)) for Y_col in zip(*Y)] for X_row in X]\n",
    "\n",
    "for r in result:\n",
    "    print(r)\n"
   ]
  }
 ],
 "metadata": {
  "kernelspec": {
   "display_name": "Python 3",
   "language": "python",
   "name": "python3"
  },
  "language_info": {
   "codemirror_mode": {
    "name": "ipython",
    "version": 3
   },
   "file_extension": ".py",
   "mimetype": "text/x-python",
   "name": "python",
   "nbconvert_exporter": "python",
   "pygments_lexer": "ipython3",
   "version": "3.8.8"
  }
 },
 "nbformat": 4,
 "nbformat_minor": 5
}
