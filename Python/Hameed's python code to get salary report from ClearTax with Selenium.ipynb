{
 "cells": [
  {
   "cell_type": "code",
   "execution_count": null,
   "metadata": {},
   "outputs": [],
   "source": [
    "import selenium \n",
    "driver = webdriver.Chrome()\n",
    "driver.get('https://cleartax.in/s/salary-calculator')\n",
    "\n",
    "x = range(250000, 10025000, 25000)\n",
    "for n in x:\n",
    "    ctc_box = driver.find_element_by_name('ctc')\n",
    "    ctc_box.clear()\n",
    "    ctc_box.send_keys(n)\n",
    "    d = driver.find_element_by_name('d')\n",
    "    d.clear()\n",
    "    d.send_keys('1')\n",
    "\n",
    "    print ('for Rs. ' + str(n) )\n",
    "    for elem in driver.find_elements_by_class_name('output'):\n",
    "        print (elem.text)\n",
    "    print ('\\n')\n",
    "\n",
    "driver.close()"
   ]
  }
  
