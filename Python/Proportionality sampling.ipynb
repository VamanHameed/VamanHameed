{
 "cells": [
  {
   "cell_type": "raw",
   "id": "11ea3f37-c6c9-4602-aef0-97ac14facce3",
   "metadata": {},
   "source": [
    " Q2: Select a number randomly with probability proportional to its magnitude from the given array of n elements\n",
    "\n",
    "consider an experiment, selecting an element from the list A randomly with probability proportional to its magnitude. assume we are doing the same experiment for 100 times with replacement, in each experiment you will print a number that is selected randomly from A.\n",
    "\n",
    "Ex 1: A = [0 5 27 6 13 28 100 45 10 79]\n",
    "let f(x) denote the number of times x getting selected in 100 experiments.\n",
    "f(100) > f(79) > f(45) > f(28) > f(27) > f(13) > f(10) > f(6) > f(5) > f(0)\n"
   ]
  },
  {
   "cell_type": "code",
   "execution_count": 48,
   "id": "503545cd-1ed8-422f-8d90-71bc5c55d560",
   "metadata": {},
   "outputs": [
    {
     "data": {
      "text/plain": [
       "[45, 79, 79, 28, 100, 79, 45, 28, 6, 45, 100, 10, 79, 45, 28, 100, 100, 45, 100, 45, 45, 10, 100, 100, 79, 79, 100, 79, 27, 100, 79, 100, 79, 100, 100, 100, 45, 79, 79, 100, 100, 79, 79, 79, 45, 27, 100, 100, 79, 27, 79, 100, 100, 45, 100, 100, 100, 100, 45, 45, 79, 79, 79, 100, 27, 45, 100, 100, 45, 13, 79, 28, 10, 79, 79, 45, 79, 27, 100, 79, 10, 79, 28, 45, 45, 100, 100, 28, 45, 27, 100, 100, 27, 100, 79, 13, 79, 27, 79]"
      ]
     },
     "execution_count": 48,
     "metadata": {},
     "output_type": "execute_result"
    }
   ],
   "source": [
    "import random\n",
    "A = [0, 5, 27, 6, 13, 28, 100, 45, 10, 79]\n",
    "def pick_a_number_from_list(A):\n",
    "    A.sort() \n",
    "    # Compute the Sum\n",
    "    S = sum(A)\n",
    "    # Normalizing the Sum\n",
    "    lst_di_=[]\n",
    "    for i in A:\n",
    "        di_ = i/S\n",
    "        lst_di_.append(di_)\n",
    "    # Cumulative Normalized sum\n",
    "    k = 0\n",
    "    lst_ditilda=[]\n",
    "    for j in lst_di_:\n",
    "        k += j\n",
    "        lst_ditilda.append(k)\n",
    "    # Sample one value from a uniform random variable in range 0.0 to 1.0\n",
    "    r = random.uniform(0.0, 1.0)\n",
    "    for i in lst_ditilda:\n",
    "        if r <= i:\n",
    "            number = (lst_ditilda.index(i))\n",
    "            break\n",
    "    return (A[number])\n",
    " \n",
    "def sampling_based_on_magnitude():\n",
    "    number_list =[]\n",
    "    for i in range(1,100):\n",
    "        number = pick_a_number_from_list(A)\n",
    "        number_list.append(number)\n",
    "    return number_list\n",
    "\n",
    "sampling_based_on_magnitude()\n",
    "\n",
    "\n",
    "\n"
   ]
  },
  {
   "cell_type": "code",
   "execution_count": 47,
   "id": "7e3e030a-b547-4f37-850c-7b787bc42527",
   "metadata": {},
   "outputs": [
    {
     "name": "stdout",
     "output_type": "stream",
     "text": [
      "Pretty printing has been turned OFF\n"
     ]
    }
   ],
   "source": []
  }
 ],
 "metadata": {
  "kernelspec": {
   "display_name": "Python 3",
   "language": "python",
   "name": "python3"
  },
  "language_info": {
   "codemirror_mode": {
    "name": "ipython",
    "version": 3
   },
   "file_extension": ".py",
   "mimetype": "text/x-python",
   "name": "python",
   "nbconvert_exporter": "python",
   "pygments_lexer": "ipython3",
   "version": "3.8.8"
  }
 },
 "nbformat": 4,
 "nbformat_minor": 5
}
