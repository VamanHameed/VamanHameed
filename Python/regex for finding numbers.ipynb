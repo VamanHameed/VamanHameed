{
 "cells": [
  {
   "cell_type": "raw",
   "id": "37076bf5-b0d4-4798-b7ec-be3b7fbb3935",
   "metadata": {
    "colab_type": "text",
    "id": "D1xQy2WWB-kq"
   },
   "source": [
    "<h3> Q3: Replace the digits in the string with #</h3>\n",
    "\n",
    "consider a string that will have digits in that, we need to remove all the not digits and replace the digits with #\n",
    "<pre>\n",
    "Ex 1: A = 234                Output: ###\n",
    "Ex 2: A = a2b3c4             Output: ###\n",
    "Ex 3: A = abc                Output:   (empty string)\n",
    "Ex 5: A = #2a$#b%c%561#      Output: ####\n",
    "</pre>"
   ]
  },
  {
   "cell_type": "code",
   "execution_count": 46,
   "id": "8042afed-cb35-4a97-88f5-68a811b51723",
   "metadata": {
    "colab": {},
    "colab_type": "code",
    "id": "fxczi2jzB-kr"
   },
   "outputs": [
    {
     "data": {
      "text/plain": [
       "'####'"
      ]
     },
     "execution_count": 46,
     "metadata": {},
     "output_type": "execute_result"
    }
   ],
   "source": [
    "A = '234'\n",
    "B = 'a2b3c4'\n",
    "C = 'abc'\n",
    "D = '#2a$#b%c%561#'\n",
    "\n",
    "import re\n",
    "def replace_digits(String):\n",
    "    stringinput = str(String)\n",
    "    pattern = re.compile('\\d')#https://www.geeksforgeeks.org/regular-expression-python-examples-set-1/?ref=lbp\n",
    "    repetition = len(pattern.findall(stringinput))#https://stackoverflow.com/a/1374471\n",
    "    return(repetition * '#') \n",
    "\n",
    "replace_digits(D)"
   ]
  }
 ],
 "metadata": {
  "kernelspec": {
   "display_name": "Python 3",
   "language": "python",
   "name": "python3"
  },
  "language_info": {
   "codemirror_mode": {
    "name": "ipython",
    "version": 3
   },
   "file_extension": ".py",
   "mimetype": "text/x-python",
   "name": "python",
   "nbconvert_exporter": "python",
   "pygments_lexer": "ipython3",
   "version": "3.8.8"
  }
 },
 "nbformat": 4,
 "nbformat_minor": 5
}
