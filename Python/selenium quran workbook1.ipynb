{
 "cells": [
  {
   "cell_type": "code",
   "execution_count": null,
   "id": "cc22079b-e822-41bd-b43e-1c2ceaec87df",
   "metadata": {},
   "outputs": [],
   "source": [
    "'/html/body/main/div[2]/div/div[1]/div[2]/div/div[1]/div[2]/div[2]/p[1]'\n",
    "'/html/body/main/div[2]/div/div[1]/div[2]/div/div[3]/div[2]/div[2]/p[1]'\n",
    "\n",
    "\n",
    "'/html/body/main/div[2]/div/div[1]/div[2]/div/div[1]/div[2]/div[3]/p[1]'\n",
    "'/html/body/main/div[2]/div/div[1]/div[2]/div/div[3]/div[2]/div[3]/p[1]'"
   ]
  },
  {
   "cell_type": "code",
   "execution_count": null,
   "id": "be3cf0a0-1791-491f-956e-019656be066e",
   "metadata": {},
   "outputs": [],
   "source": [
    "for i in range(1,10,2):\n",
    "    for j in range(2,6):\n",
    "        print(f'/html/body/main/div[2]/div/div[1]/div[2]/div/div[{i}]/div[2]/div[{j}]/p[1]')\n",
    "        "
   ]
  },
  {
   "cell_type": "code",
   "execution_count": null,
   "id": "5fffc22b-6156-4b49-8bcf-ddfe9bab1140",
   "metadata": {},
   "outputs": [],
   "source": [
    "for j in range(1,10,2):\n",
    "    for i in range(2,6):\n",
    "        print(f'/html/body/main/div[2]/div/div[1]/div[2]/div/div[{i}]/div[2]/div[{j}]/p[1]')"
   ]
  },
  {
   "cell_type": "code",
   "execution_count": null,
   "id": "3e48913b-ac7c-4aff-ab41-5be4c9ea58e0",
   "metadata": {},
   "outputs": [],
   "source": [
    "for i in range(2,6):\n",
    "    for j in range(1,10,2):\n",
    "        print(f'/html/body/main/div[2]/div/div[1]/div[2]/div/div[{i}]/div[2]/div[{j}]/p[1]')"
   ]
  },
  {
   "cell_type": "code",
   "execution_count": null,
   "id": "6ee8c8e9-5a85-4f50-b388-330484b04776",
   "metadata": {},
   "outputs": [],
   "source": [
    "for j in range(2,6):\n",
    "    for i in range(1,10,2):\n",
    "        print(f'/html/body/main/div[2]/div/div[1]/div[2]/div/div[{i}]/div[2]/div[{j}]/p[1]')"
   ]
  },
  {
   "cell_type": "code",
   "execution_count": null,
   "id": "76ce1c1e-5478-4043-a778-ba10c3a89d6f",
   "metadata": {},
   "outputs": [],
   "source": [
    "/html/body/div[1]/div/div[3]/div/div/div[2]/div[1]/a[1]/div/p[1]\n",
    "/html/body/div[1]/div/div[3]/div/div/div[2]/div[1]/a[2]/div/p[1]\n",
    "/html/body/div[1]/div/div[3]/div/div/div[2]/div[1]/a[{i}]/div/p[1]\n",
    "\n",
    "/html/body/div[1]/div/div[3]/div/div/div[2]/div[2]/nav/ul/li[6]/a "
   ]
  },
  {
   "cell_type": "code",
   "execution_count": null,
   "id": "556861cf-bdc1-407d-bf66-afbe29d45279",
   "metadata": {},
   "outputs": [],
   "source": [
    "# def extracttext():\n",
    "from selenium import webdriver\n",
    "from selenium.webdriver.common.keys import Keys\n",
    "\n",
    "driver = webdriver.Chrome(executable_path=\"C:/Users/hamee/chromedriver.exe\")\n",
    "driver.get('https://quran.com/114')\n",
    "print(driver.title)\n",
    "for j in range(2,4):\n",
    "    for i in range(1,12,2):\n",
    "#         print(f'/html/body/main/div[2]/div/div[1]/div[2]/div/div[{i}]/div[2]/div[{j}]/p[1]')\n",
    "        path = (f'/html/body/main/div[2]/div/div[1]/div[2]/div/div[{i}]/div[2]/div[{j}]/p[1]')\n",
    "        translation = driver.find_element_by_xpath(path)\n",
    "        print(f'{translation.text}\\n')"
   ]
  },
  {
   "cell_type": "code",
   "execution_count": null,
   "id": "47b53f04-c439-493c-82d4-071f011ff537",
   "metadata": {},
   "outputs": [],
   "source": [
    "driver.execute_script(\"window.scrollTo(0, document.body.scrollHeight);\")"
   ]
  },
  {
   "cell_type": "code",
   "execution_count": null,
   "id": "0269d5aa-3089-442b-af71-b9216c99e455",
   "metadata": {},
   "outputs": [],
   "source": [
    "try:\n",
    "    for k in range(1,115):\n",
    "        link = f'https://quran.com/chapter_info/{k}?locale=en'\n",
    "        driver.get(link)\n",
    "        time.sleep(1.0)\n",
    "        translation = driver.find_element_by_xpath('/html/body/main/div/div/div[1]/div/div/div[2]')\n",
    "        print(f'{translation.text}\\n')\n",
    "except:\n",
    "    print('')"
   ]
  }
 ],
 "metadata": {
  "kernelspec": {
   "display_name": "Python 3",
   "language": "python",
   "name": "python3"
  },
  "language_info": {
   "codemirror_mode": {
    "name": "ipython",
    "version": 3
   },
   "file_extension": ".py",
   "mimetype": "text/x-python",
   "name": "python",
   "nbconvert_exporter": "python",
   "pygments_lexer": "ipython3",
   "version": "3.8.8"
  }
 },
 "nbformat": 4,
 "nbformat_minor": 5
}
