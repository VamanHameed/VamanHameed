{
 "cells": [
  {
   "cell_type": "code",
   "execution_count": null,
   "id": "f9eb3bd2-b672-40d8-a47b-5df1b9699834",
   "metadata": {},
   "outputs": [],
   "source": [
    "from selenium import webdriver\n",
    "from selenium.webdriver.common.keys import Keys\n",
    "import time\n",
    "    \n",
    "driver = webdriver.Chrome()\n",
    "driver.get('https://quran.com/')"
   ]
  },
  {
   "cell_type": "code",
   "execution_count": null,
   "id": "46fb683b-b165-4b51-b3e3-80da669bc8c1",
   "metadata": {},
   "outputs": [],
   "source": [
    "link = f'https://quran.com/3'\n",
    "driver.get(link)\n",
    "time.sleep(1.0)\n",
    "driver.find_element_by_xpath('//*[@id=\"open-settings\"]').click()\n",
    "time.sleep(1)\n",
    "driver.find_element_by_xpath('//*[@id=\"open-translations\"]').click()\n",
    "time.sleep(1)\n",
    "driver.find_element_by_xpath('//*[@id=\"translation-clear-all\"]').click()\n",
    "time.sleep(0.5)\n",
    "driver.find_element_by_xpath('//*[@id=\"ordered-translations\"]/div[1]/div[2]/label[1]').click()\n",
    "time.sleep(0.5)\n",
    "driver.find_element_by_xpath('//*[@id=\"ordered-translations\"]/div[1]/div[2]/label[2]').click()\n",
    "time.sleep(0.5)\n",
    "driver.find_element_by_xpath('//*[@id=\"ordered-translations\"]/div[1]/div[2]/label[3]').click()\n",
    "time.sleep(0.5)\n",
    "driver.find_element_by_xpath('//*[@id=\"ordered-translations\"]/div[1]/div[2]/label[4]').click()\n",
    "time.sleep(0.5)\n",
    "driver.find_element_by_xpath('//*[@id=\"ordered-translations\"]/div[1]/div[2]/label[5]').click()\n",
    "time.sleep(0.5)\n",
    "driver.find_element_by_xpath('//*[@id=\"ordered-translations\"]/div[1]/div[2]/label[6]').click()\n",
    "time.sleep(0.5)\n",
    "driver.find_element_by_xpath('//*[@id=\"ordered-translations\"]/div[1]/div[2]/label[7]').click()\n",
    "time.sleep(0.5)\n",
    "driver.find_element_by_xpath('//*[@id=\"ordered-translations\"]/div[1]/div[2]/label[8]').click()\n",
    "time.sleep(0.5)\n",
    "driver.find_element_by_xpath('//*[@id=\"ordered-translations\"]/div[1]/div[2]/label[9]').click()\n",
    "time.sleep(0.5)\n",
    "driver.find_element_by_xpath('//*[@id=\"ordered-translations\"]/div[1]/div[2]/label[11]').click()\n",
    "time.sleep(0.5)\n",
    "driver.find_element_by_xpath('//*[@id=\"ordered-translations\"]/div[1]/div[2]/label[12]').click()\n",
    "time.sleep(0.5)\n",
    "driver.find_element_by_xpath('//*[@id=\"ordered-translations\"]/div[1]/div[2]/label[13]').click()\n",
    "time.sleep(0.5)\n",
    "driver.find_element_by_xpath('//*[@id=\"ordered-translations\"]/div[1]/div[2]/label[14]').click()\n",
    "time.sleep(0.5)\n",
    "driver.find_element_by_xpath('//*[@id=\"close-translations\"]').click()\n",
    "time.sleep(1)\n",
    "driver.find_element_by_xpath('//*[@id=\"close-settings\"]').click()\n",
    "time.sleep(1)"
   ]
  },
  {
   "cell_type": "code",
   "execution_count": null,
   "id": "281692c5-e61b-4e58-836e-1e9794f4aebf",
   "metadata": {},
   "outputs": [],
   "source": [
    "for j in range(1,28):\n",
    "    driver.execute_script(\"window.scrollTo(0, document.body.scrollHeight);\")\n",
    "    time.sleep(1)"
   ]
  },
  {
   "cell_type": "code",
   "execution_count": null,
   "id": "1a0ecf4a-9fca-4e82-89a8-8cb3d8a6f099",
   "metadata": {},
   "outputs": [],
   "source": [
    "start, stop, step = 1, 512, 2\n",
    "for i in range(start, stop, step):\n",
    "    path = (f'/html/body/main/div[2]/div/div[1]/div/div/div[{i}]/div[2]/div[2]/p[1]')\n",
    "    translations = driver.find_element_by_xpath(path)\n",
    "    print(f'{translations.text}\\n')"
   ]
  },
  {
   "cell_type": "code",
   "execution_count": null,
   "id": "6f7b8564-3fdb-4018-b2dd-65ddb774b9f3",
   "metadata": {},
   "outputs": [],
   "source": [
    "try:\n",
    "    start, stop, step = 1, 15, 2\n",
    "    for j in range(2,15):\n",
    "        print(driver.title)\n",
    "        for i in range(start, stop, step):\n",
    "            path = (f'/html/body/main/div[2]/div/div[1]/div/div/div[{i}]/div[2]/div[{j}]/p[1]')\n",
    "            translation = driver.find_element_by_xpath(path)\n",
    "            print(f'{translation.text}\\n')\n",
    "except:\n",
    "    print('')"
   ]
  }
 ],
 "metadata": {
  "kernelspec": {
   "display_name": "Python 3",
   "language": "python",
   "name": "python3"
  },
  "language_info": {
   "codemirror_mode": {
    "name": "ipython",
    "version": 3
   },
   "file_extension": ".py",
   "mimetype": "text/x-python",
   "name": "python",
   "nbconvert_exporter": "python",
   "pygments_lexer": "ipython3",
   "version": "3.8.8"
  }
 },
 "nbformat": 4,
 "nbformat_minor": 5
}
